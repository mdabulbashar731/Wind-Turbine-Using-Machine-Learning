{
  "nbformat": 4,
  "nbformat_minor": 0,
  "metadata": {
    "colab": {
      "provenance": []
    },
    "kernelspec": {
      "name": "python3",
      "display_name": "Python 3"
    },
    "language_info": {
      "name": "python"
    }
  },
  "cells": [
    {
      "cell_type": "code",
      "execution_count": 15,
      "metadata": {
        "id": "9a6VY6Hf1xuV"
      },
      "outputs": [],
      "source": [
        "import tkinter \n",
        "import requests\n",
        "import time\n",
        "import matplotlib"
      ]
    },
    {
      "cell_type": "code",
      "source": [
        "def getWeather(city):\n",
        "    # city = textField.get()\n",
        "    api = \"https://api.openweathermap.org/data/2.5/weather?q=\"+city+\"&appid=2168454a8287d2c779fff7e40d811d1c\"\n",
        "\n",
        "    json_data = requests.get(api).json()\n",
        "    condition = json_data['weather'][0]['main']\n",
        "    temp = int(json_data['main']['temp'] - 273.15)\n",
        "    min_temp = int(json_data['main']['temp_min'] - 273.15)\n",
        "    max_temp = int(json_data['main']['temp_max'] - 273.15)\n",
        "    pressure = json_data['main']['pressure']\n",
        "    humidity = json_data['main']['humidity']\n",
        "    wind = json_data['wind']['speed']\n",
        "    sunrise = time.strftime('%I:%M:%S', time.gmtime(json_data['sys']['sunrise'] - 21600))\n",
        "    sunset = time.strftime('%I:%M:%S', time.gmtime(json_data['sys']['sunset'] - 21600))\n",
        "\n",
        "    final_info = condition + \"\\n\" + str(temp) + \"°C\" \n",
        "    final_data = \"\\n\"+ \"Min Temp: \" + str(min_temp) + \"°C\" + \"\\n\" + \"Max Temp: \" + str(max_temp) + \"°C\" +\"\\n\" + \"Pressure: \" + str(pressure) + \"\\n\" +\"Humidity: \" + str(humidity) + \"\\n\" +\"Wind Speed: \" + str(wind) + \"\\n\" + \"Sunrise: \" + sunrise + \"\\n\" + \"Sunset: \" + sunset\n",
        "    print(final_info )\n",
        "    print(final_data)\n",
        "    return json_data\n",
        "  "
      ],
      "metadata": {
        "id": "69vcRBhM10Se"
      },
      "execution_count": 16,
      "outputs": []
    },
    {
      "cell_type": "code",
      "source": [
        "print('Enter a city: ')\n",
        "cityName = input()\n",
        "weather_data = getWeather(cityName)\n",
        "print('Radius of the blade in meter: ')\n",
        "radius = float(input())\n",
        "print('The air velocity in m/s: ')\n",
        "# velocity = float(input())\n",
        "velocity = weather_data['wind']['speed']\n",
        "print(velocity)\n",
        "area = 3.1416*pow(radius,2)\n",
        "print('Area of turbine: ', area)\n",
        "\n",
        "capacity = 0.5*1.225*area*pow(velocity, 3)*0.4\n",
        "print('Wind turbine power capacity: ', capacity, 'watt')\n",
        "\n",
        "print('Wind turbine power capacity : ', capacity/1000, 'kwh')"
      ],
      "metadata": {
        "id": "tZSSGDBa138T",
        "colab": {
          "base_uri": "https://localhost:8080/"
        },
        "outputId": "7fab13a4-9741-4c3e-bbe2-dceb125cccde"
      },
      "execution_count": 19,
      "outputs": [
        {
          "output_type": "stream",
          "name": "stdout",
          "text": [
            "Enter a city: \n",
            "dhaka\n",
            "Haze\n",
            "35°C\n",
            "\n",
            "Min Temp: 35°C\n",
            "Max Temp: 35°C\n",
            "Pressure: 1006\n",
            "Humidity: 52\n",
            "Wind Speed: 5.14\n",
            "Sunrise: 05:11:06\n",
            "Sunset: 06:42:23\n",
            "Radius of the blade in meter: \n",
            "5\n",
            "The air velocity in m/s: \n",
            "5.14\n",
            "Area of turbine:  78.53999999999999\n",
            "Wind turbine power capacity:  2613.0416870711997 watt\n",
            "Wind turbine power capacity :  2.6130416870712 kwh\n"
          ]
        }
      ]
    },
    {
      "cell_type": "code",
      "source": [],
      "metadata": {
        "id": "Os_Zd86p77u4"
      },
      "execution_count": null,
      "outputs": []
    }
  ]
}